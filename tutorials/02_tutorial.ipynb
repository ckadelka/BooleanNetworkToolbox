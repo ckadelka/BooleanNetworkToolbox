{
 "cells": [
  {
   "cell_type": "markdown",
   "id": "8f37ac62",
   "metadata": {},
   "source": [
    "# Boolean Functions & Networks Toolbox — Interactive Tutorials\n",
    "\n",
    "Welcome! These notebooks walk you through the main features of the provided toolbox for **analysis** and **random generation** of Boolean functions and networks (with applications to gene regulatory networks).\n",
    "\n",
    "**How to use these notebooks**\n",
    "- Run the first cell to import the toolbox from the local files you provided.\n",
    "- Each section contains small runnable examples, expected outputs, and short exercises.\n",
    "- Cells marked **🔧 Try it** are meant for you to edit and explore.\n",
    "\n",
    "> If you update the Python files, just re-run the import cell to pick up changes.\n"
   ]
  },
  {
   "cell_type": "markdown",
   "id": "4b561d00",
   "metadata": {},
   "source": [
    "## 0. Setup & Imports"
   ]
  },
  {
   "cell_type": "code",
   "execution_count": 2,
   "id": "3f3ec39b",
   "metadata": {},
   "outputs": [
    {
     "name": "stdout",
     "output_type": "stream",
     "text": [
      "BN functions: 38\n"
     ]
    }
   ],
   "source": [
    "import sys, os, numpy as np\n",
    "sys.path.append('/mnt/data')\n",
    "sys.path.append('../BNToolbox/')\n",
    "\n",
    "import analyze_BN as BN\n",
    "import analyze_BF as BF\n",
    "import generate as GEN\n",
    "\n",
    "print('BN functions:', len([f for f in dir(BN) if callable(getattr(BN,f, None)) and not f.startswith('_')]))"
   ]
  },
  {
   "cell_type": "markdown",
   "id": "1bc26f49",
   "metadata": {},
   "source": [
    "## 1. Building a small Boolean Network\n",
    "We'll build a 3-node network with simple update rules and examine basic properties."
   ]
  },
  {
   "cell_type": "code",
   "execution_count": null,
   "id": "c385ff32",
   "metadata": {},
   "outputs": [],
   "source": [
    "# Define local functions by truth tables (n_i depends on its own inputs only)\n",
    "# For simplicity, use functions of their listed regulators.\n",
    "\n",
    "# Network: x1 <- x2 AND x3 ; x2 <- x1 OR x3 ; x3 <- NOT x1\n",
    "F = [\n",
    "    np.array([0,0,0,1], dtype=int),     # AND on 2 inputs (x2,x3)\n",
    "    np.array([0,1,1,1], dtype=int),     # OR on 2 inputs (x1,x3)\n",
    "    np.array([1,0], dtype=int)          # NOT on 1 input (x1)\n",
    "]\n",
    "I = [\n",
    "    [1,2],  # regulators of x1 are x2,x3\n",
    "    [0,2],  # regulators of x2 are x1,x3\n",
    "    [0],    # regulator of x3 is x1\n",
    "]\n",
    "\n",
    "print('Network size:', len(F))\n",
    "print('Regulators:', I)\n",
    "\n",
    "# Evaluate synchronous update from a given state\n",
    "try:\n",
    "    succ = BN.successor_state(F, I, np.array([0,1,1], dtype=int))\n",
    "    print('Successor of [0,1,1]:', succ)\n",
    "except Exception as e:\n",
    "    print('Try BN.get_successor or similar:', e)"
   ]
  },
  {
   "cell_type": "markdown",
   "id": "3c5afcec",
   "metadata": {},
   "source": [
    "## 2. State space, attractors, and basins"
   ]
  },
  {
   "cell_type": "code",
   "execution_count": null,
   "id": "f7e0bda7",
   "metadata": {},
   "outputs": [],
   "source": [
    "# Explore the full state space to find attractors (synchronous)\n",
    "try:\n",
    "    attr, count = BN.get_attractors_synchronous_exact(F, I)\n",
    "    print('Number of attractors:', count)\n",
    "    print('Attractors:', attr)\n",
    "except Exception as e:\n",
    "    print('Exact attractor utility not found, trying alternative...', e)\n",
    "    # Fallback: brute force using a helper if provided\n",
    "    try:\n",
    "        attr = BN.find_attractors(F, I)\n",
    "        print('Attractors:', attr)\n",
    "    except Exception as e2:\n",
    "        print('No attractor finder available:', e2)"
   ]
  },
  {
   "cell_type": "markdown",
   "id": "e11b73ac",
   "metadata": {},
   "source": [
    "## 3. Sensitivity & Derrida plots (if available)"
   ]
  },
  {
   "cell_type": "code",
   "execution_count": null,
   "id": "c7b6b9af",
   "metadata": {},
   "outputs": [],
   "source": [
    "# If the toolbox has Derrida or sensitivity on networks, demonstrate here\n",
    "try:\n",
    "    derrida = BN.derrida_curve(F, I, samples=200, seed=1)\n",
    "    print('Derrida (Hamming distance mapping): first 5 points ->', derrida[:5])\n",
    "except Exception as e:\n",
    "    print('Derrida utility not available:', e)"
   ]
  },
  {
   "cell_type": "markdown",
   "id": "2c60d836",
   "metadata": {},
   "source": [
    "## 4. Structural properties: in/out degree, frozen nodes, etc."
   ]
  },
  {
   "cell_type": "code",
   "execution_count": null,
   "id": "094be0d8",
   "metadata": {},
   "outputs": [],
   "source": [
    "try:\n",
    "    indeg = BN.in_degrees(I)\n",
    "    outdeg = BN.out_degrees(I, N=len(F))\n",
    "    print('in-degrees:', indeg)\n",
    "    print('out-degrees:', outdeg)\n",
    "except Exception as e:\n",
    "    print('Degree helpers not available:', e)\n",
    "\n",
    "try:\n",
    "    frozen = BN.get_frozen_nodes(F, I, samples=200, seed=0)\n",
    "    print('frozen nodes (estimated):', frozen)\n",
    "except Exception as e:\n",
    "    print('Frozen node estimator not available:', e)"
   ]
  },
  {
   "cell_type": "markdown",
   "id": "703e8173",
   "metadata": {},
   "source": [
    "## 🔧 Try it: Your network here"
   ]
  },
  {
   "cell_type": "code",
   "execution_count": null,
   "id": "01401fcf",
   "metadata": {},
   "outputs": [],
   "source": [
    "# Edit F and I to define your own network, then re-run the attractor finder above.\n",
    "F = [\n",
    "    np.array([0,1,1,1], dtype=int),  # OR(x2,x3)\n",
    "    np.array([0,1,1,0], dtype=int),  # XOR(x1,x3)\n",
    "    np.array([1,0], dtype=int)       # NOT(x1)\n",
    "]\n",
    "I = [[1,2],[0,2],[0]]\n",
    "print('Defined a new network of size', len(F))"
   ]
  }
 ],
 "metadata": {
  "kernelspec": {
   "display_name": "Python 3",
   "language": "python",
   "name": "python3"
  },
  "language_info": {
   "codemirror_mode": {
    "name": "ipython",
    "version": 3
   },
   "file_extension": ".py",
   "mimetype": "text/x-python",
   "name": "python",
   "nbconvert_exporter": "python",
   "pygments_lexer": "ipython3",
   "version": "3.9.6"
  }
 },
 "nbformat": 4,
 "nbformat_minor": 5
}
