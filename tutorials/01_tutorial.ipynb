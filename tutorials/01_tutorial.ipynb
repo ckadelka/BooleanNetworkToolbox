{
 "cells": [
  {
   "cell_type": "markdown",
   "id": "6c9eea2e",
   "metadata": {},
   "source": [
    "# Boolean Functions & Networks Toolbox — Interactive Tutorials\n",
    "\n",
    "Welcome! These notebooks walk you through the main features of the provided toolbox for **analysis** and **random generation** of Boolean functions and networks (with applications to gene regulatory networks).\n",
    "\n",
    "**How to use these notebooks**\n",
    "- Run the first cell to import the toolbox from the local files you provided.\n",
    "- Each section contains small runnable examples, expected outputs, and short exercises.\n",
    "- Cells marked **🔧 Try it** are meant for you to edit and explore.\n",
    "\n",
    "> If you update the Python files, just re-run the import cell to pick up changes.\n"
   ]
  },
  {
   "cell_type": "markdown",
   "id": "4fdc4c10",
   "metadata": {},
   "source": [
    "## 0. Setup & Imports"
   ]
  },
  {
   "cell_type": "code",
   "execution_count": 1,
   "id": "035fd652",
   "metadata": {},
   "outputs": [
    {
     "name": "stdout",
     "output_type": "stream",
     "text": [
      "Loaded functions: 23\n"
     ]
    }
   ],
   "source": [
    "# Import the local toolbox modules\n",
    "import sys, os\n",
    "sys.path.append('/mnt/data')\n",
    "sys.path.append('../BNToolbox/')\n",
    "\n",
    "import numpy as np\n",
    "\n",
    "# Import modules\n",
    "import analyze_BF as BF\n",
    "import utils\n",
    "\n",
    "print('Loaded functions:', len([f for f in dir(BF) if callable(getattr(BF,f, None)) and not f.startswith('_')]))"
   ]
  },
  {
   "cell_type": "markdown",
   "id": "010bad3d",
   "metadata": {},
   "source": [
    "## 1. Representing Boolean functions\n",
    "We represent a Boolean function on *n* variables via its truth table as a 1D numpy array of length `2**n`, indexed in lexicographic (binary) order unless noted otherwise.\n",
    "\n",
    "**Example:** parity (XOR) on two variables has truth table `[0,1,1,0]`."
   ]
  },
  {
   "cell_type": "code",
   "execution_count": 2,
   "id": "2271196a",
   "metadata": {},
   "outputs": [
    {
     "name": "stdout",
     "output_type": "stream",
     "text": [
      "xor2: [0 1 1 0]\n",
      "Index 3 in 2 bits: [1, 1]\n",
      "Binary 1,0 -> 2\n"
     ]
    }
   ],
   "source": [
    "# Example: Truth table for XOR on 2 variables\n",
    "xor2 = np.array([0,1,1,0], dtype=int)\n",
    "n = 2\n",
    "print('xor2:', xor2)\n",
    "\n",
    "# Utilities: convert between binary and decimal indices\n",
    "from utils import dec2bin, bin2dec\n",
    "print('Index 3 in 2 bits:', dec2bin(3, n))\n",
    "print('Binary 1,0 ->', bin2dec([1,0]))"
   ]
  },
  {
   "cell_type": "markdown",
   "id": "9e9f0ab7",
   "metadata": {},
   "source": [
    "## 2. Basic properties\n",
    "Test for **constant**, **degenerated**, **monotonic**, **essential variables**, **symmetry groups**, and **bias**."
   ]
  },
  {
   "cell_type": "code",
   "execution_count": 3,
   "id": "f7a4cb37",
   "metadata": {},
   "outputs": [
    {
     "name": "stdout",
     "output_type": "stream",
     "text": [
      "f: [0 1 1 1]\n",
      "is_constant: False\n",
      "is_degenerated: False\n",
      "essential vars: [0, 1]\n",
      "num essential: 2\n",
      "is_monotonic: True\n",
      "symmetry groups: [[0, 1]]\n",
      "absolute bias: 0.5\n"
     ]
    }
   ],
   "source": [
    "f = np.array([0,1,1,1], dtype=int)  # OR on 2 variables\n",
    "print('f:', f)\n",
    "\n",
    "print('is_constant:', BF.is_constant(f))\n",
    "print('is_degenerated:', BF.is_degenerated(f))\n",
    "print('essential vars:', BF.get_essential_variables(f))\n",
    "print('num essential:', BF.get_number_of_essential_variables(f))\n",
    "print('is_monotonic:', BF.is_monotonic(f))\n",
    "print('symmetry groups:', BF.get_symmetry_groups(f))\n",
    "print('absolute bias:', BF.get_absolute_bias(f))"
   ]
  },
  {
   "cell_type": "markdown",
   "id": "08463922",
   "metadata": {},
   "source": [
    "## 3. Sensitivity & Influence"
   ]
  },
  {
   "cell_type": "code",
   "execution_count": 4,
   "id": "fee91765",
   "metadata": {},
   "outputs": [
    {
     "name": "stdout",
     "output_type": "stream",
     "text": [
      "average sensitivity: 1.0\n",
      "average sensitivity (AND): 0.4932\n"
     ]
    }
   ],
   "source": [
    "f = np.array([0,1,1,0], dtype=int)  # XOR\n",
    "print('average sensitivity:', BF.get_average_sensitivity(f))\n",
    "# Try another function\n",
    "g = np.array([0,0,0,1], dtype=int)  # AND\n",
    "print('average sensitivity (AND):', BF.get_average_sensitivity(g))"
   ]
  },
  {
   "cell_type": "markdown",
   "id": "cd8b6903",
   "metadata": {},
   "source": [
    "## 4. Canalization\n",
    "Check whether a function is **canalizing** or **k-canalizing**, and extract canalizing inputs/outputs and the **core function**."
   ]
  },
  {
   "cell_type": "code",
   "execution_count": 5,
   "id": "e26cfb0e",
   "metadata": {},
   "outputs": [
    {
     "name": "stdout",
     "output_type": "stream",
     "text": [
      "is_canalizing: True\n"
     ]
    },
    {
     "ename": "TypeError",
     "evalue": "is_k_canalizing() takes 2 positional arguments but 3 were given",
     "output_type": "error",
     "traceback": [
      "\u001b[0;31m---------------------------------------------------------------------------\u001b[0m",
      "\u001b[0;31mValueError\u001b[0m                                Traceback (most recent call last)",
      "File \u001b[0;32m~/Library/CloudStorage/Box-Box/GRN_Database/Toolbox/BNToolbox/analyze_BF.py:324\u001b[0m, in \u001b[0;36mis_k_canalizing\u001b[0;34m(f, k)\u001b[0m\n\u001b[1;32m    323\u001b[0m \u001b[38;5;28;01mtry\u001b[39;00m:  \u001b[38;5;66;03m# check for canalizing output 1\u001b[39;00m\n\u001b[0;32m--> 324\u001b[0m     index \u001b[38;5;241m=\u001b[39m \u001b[38;5;28;43mlist\u001b[39;49m\u001b[43m(\u001b[49m\u001b[43mnp\u001b[49m\u001b[38;5;241;43m.\u001b[39;49m\u001b[43mdot\u001b[49m\u001b[43m(\u001b[49m\u001b[43mA\u001b[49m\u001b[43m,\u001b[49m\u001b[43m \u001b[49m\u001b[43mf\u001b[49m\u001b[43m)\u001b[49m\u001b[43m)\u001b[49m\u001b[38;5;241;43m.\u001b[39;49m\u001b[43mindex\u001b[49m\u001b[43m(\u001b[49m\u001b[43mdesired_value\u001b[49m\u001b[43m)\u001b[49m\n\u001b[1;32m    325\u001b[0m     new_f \u001b[38;5;241m=\u001b[39m f[np\u001b[38;5;241m.\u001b[39mwhere(A[index] \u001b[38;5;241m==\u001b[39m \u001b[38;5;241m0\u001b[39m)[\u001b[38;5;241m0\u001b[39m]]\n",
      "\u001b[0;31mValueError\u001b[0m: 2 is not in list",
      "\nDuring handling of the above exception, another exception occurred:\n",
      "\u001b[0;31mTypeError\u001b[0m                                 Traceback (most recent call last)",
      "Cell \u001b[0;32mIn[5], line 3\u001b[0m\n\u001b[1;32m      1\u001b[0m f \u001b[38;5;241m=\u001b[39m np\u001b[38;5;241m.\u001b[39marray([\u001b[38;5;241m0\u001b[39m,\u001b[38;5;241m0\u001b[39m,\u001b[38;5;241m0\u001b[39m,\u001b[38;5;241m1\u001b[39m], dtype\u001b[38;5;241m=\u001b[39m\u001b[38;5;28mint\u001b[39m)  \u001b[38;5;66;03m# AND is canalizing\u001b[39;00m\n\u001b[1;32m      2\u001b[0m \u001b[38;5;28mprint\u001b[39m(\u001b[38;5;124m'\u001b[39m\u001b[38;5;124mis_canalizing:\u001b[39m\u001b[38;5;124m'\u001b[39m, BF\u001b[38;5;241m.\u001b[39mis_canalizing(f))\n\u001b[0;32m----> 3\u001b[0m \u001b[38;5;28mprint\u001b[39m(\u001b[38;5;124m'\u001b[39m\u001b[38;5;124mis_k_canalizing k=1:\u001b[39m\u001b[38;5;124m'\u001b[39m, \u001b[43mBF\u001b[49m\u001b[38;5;241;43m.\u001b[39;49m\u001b[43mis_k_canalizing\u001b[49m\u001b[43m(\u001b[49m\u001b[43mf\u001b[49m\u001b[43m,\u001b[49m\u001b[43m \u001b[49m\u001b[38;5;241;43m1\u001b[39;49m\u001b[43m)\u001b[49m)\n\u001b[1;32m      5\u001b[0m \u001b[38;5;66;03m# Detailed info with inputs/outputs/core function (if available)\u001b[39;00m\n\u001b[1;32m      6\u001b[0m \u001b[38;5;28;01mtry\u001b[39;00m:\n",
      "File \u001b[0;32m~/Library/CloudStorage/Box-Box/GRN_Database/Toolbox/BNToolbox/analyze_BF.py:331\u001b[0m, in \u001b[0;36mis_k_canalizing\u001b[0;34m(f, k)\u001b[0m\n\u001b[1;32m    329\u001b[0m     index \u001b[38;5;241m=\u001b[39m \u001b[38;5;28mlist\u001b[39m(np\u001b[38;5;241m.\u001b[39mdot(A, \u001b[38;5;241m1\u001b[39m \u001b[38;5;241m-\u001b[39m f))\u001b[38;5;241m.\u001b[39mindex(desired_value)\n\u001b[1;32m    330\u001b[0m     new_f \u001b[38;5;241m=\u001b[39m f[np\u001b[38;5;241m.\u001b[39mwhere(A[index] \u001b[38;5;241m==\u001b[39m \u001b[38;5;241m0\u001b[39m)[\u001b[38;5;241m0\u001b[39m]]\n\u001b[0;32m--> 331\u001b[0m     \u001b[38;5;28;01mreturn\u001b[39;00m \u001b[43mis_k_canalizing\u001b[49m\u001b[43m(\u001b[49m\u001b[43mnew_f\u001b[49m\u001b[43m,\u001b[49m\u001b[43m \u001b[49m\u001b[43mk\u001b[49m\u001b[43m \u001b[49m\u001b[38;5;241;43m-\u001b[39;49m\u001b[43m \u001b[49m\u001b[38;5;241;43m1\u001b[39;49m\u001b[43m,\u001b[49m\u001b[43m \u001b[49m\u001b[43mn\u001b[49m\u001b[43m \u001b[49m\u001b[38;5;241;43m-\u001b[39;49m\u001b[43m \u001b[49m\u001b[38;5;241;43m1\u001b[39;49m\u001b[43m)\u001b[49m\n\u001b[1;32m    332\u001b[0m \u001b[38;5;28;01mexcept\u001b[39;00m \u001b[38;5;167;01mValueError\u001b[39;00m:\n\u001b[1;32m    333\u001b[0m     \u001b[38;5;28;01mreturn\u001b[39;00m \u001b[38;5;28;01mFalse\u001b[39;00m\n",
      "\u001b[0;31mTypeError\u001b[0m: is_k_canalizing() takes 2 positional arguments but 3 were given"
     ]
    }
   ],
   "source": [
    "f = np.array([0,0,0,1], dtype=int)  # AND is canalizing\n",
    "print('is_canalizing:', BF.is_canalizing(f))\n",
    "print('is_k_canalizing k=1:', BF.is_k_canalizing(f, 1))\n",
    "\n",
    "# Detailed info with inputs/outputs/core function (if available)\n",
    "try:\n",
    "    info = BF.is_k_canalizing_return_inputs_outputs_corefunction_order(f, k=1)\n",
    "    print('k-canalizing structure:', info)\n",
    "except Exception as e:\n",
    "    print('Detailed k-canalization function not available:', e)"
   ]
  },
  {
   "cell_type": "markdown",
   "id": "18769a1a",
   "metadata": {},
   "source": [
    "## 5. Composition & Algebra\n",
    "Compute algebraic normal form (ANF) or polynomial representation if available, and other helpers."
   ]
  },
  {
   "cell_type": "code",
   "execution_count": 6,
   "id": "fb1245f2",
   "metadata": {},
   "outputs": [
    {
     "name": "stdout",
     "output_type": "stream",
     "text": [
      "ANF for XOR on 2 vars: (1-x1)*x2 + x1*(1-x2)\n"
     ]
    }
   ],
   "source": [
    "try:\n",
    "    from utils import bool_to_poly\n",
    "    poly = bool_to_poly(np.array([0,1,1,0], dtype=int))\n",
    "    print('ANF for XOR on 2 vars:', poly)\n",
    "except Exception as e:\n",
    "    print('ANF helper not available:', e)"
   ]
  },
  {
   "cell_type": "markdown",
   "id": "2feeb773",
   "metadata": {},
   "source": [
    "## 🔧 Try it: Explore your own function"
   ]
  },
  {
   "cell_type": "code",
   "execution_count": 7,
   "id": "d91b1b69",
   "metadata": {},
   "outputs": [
    {
     "name": "stdout",
     "output_type": "stream",
     "text": [
      "essential vars: [0, 2]\n",
      "avg sensitivity: 0.668\n",
      "is_canalizing: False\n"
     ]
    }
   ],
   "source": [
    "# Edit the truth table below for a function on n=3 variables (length 8)\n",
    "f = np.array([0,1,0,1,1,0,1,0], dtype=int)\n",
    "print('essential vars:', BF.get_essential_variables(f))\n",
    "print('avg sensitivity:', BF.get_average_sensitivity(f))\n",
    "print('is_canalizing:', BF.is_canalizing(f))"
   ]
  }
 ],
 "metadata": {
  "kernelspec": {
   "display_name": "Python 3",
   "language": "python",
   "name": "python3"
  },
  "language_info": {
   "codemirror_mode": {
    "name": "ipython",
    "version": 3
   },
   "file_extension": ".py",
   "mimetype": "text/x-python",
   "name": "python",
   "nbconvert_exporter": "python",
   "pygments_lexer": "ipython3",
   "version": "3.9.6"
  }
 },
 "nbformat": 4,
 "nbformat_minor": 5
}
